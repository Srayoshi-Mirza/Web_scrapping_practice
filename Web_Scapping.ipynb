{
  "nbformat": 4,
  "nbformat_minor": 0,
  "metadata": {
    "colab": {
      "provenance": [],
      "authorship_tag": "ABX9TyPvkMqO/FeEU0rmj9fbXB7Q",
      "include_colab_link": true
    },
    "kernelspec": {
      "name": "python3",
      "display_name": "Python 3"
    },
    "language_info": {
      "name": "python"
    }
  },
  "cells": [
    {
      "cell_type": "markdown",
      "metadata": {
        "id": "view-in-github",
        "colab_type": "text"
      },
      "source": [
        "<a href=\"https://colab.research.google.com/github/Srayoshi-Mirza/Web_scrapping_practice/blob/main/Web_Scapping.ipynb\" target=\"_parent\"><img src=\"https://colab.research.google.com/assets/colab-badge.svg\" alt=\"Open In Colab\"/></a>"
      ]
    },
    {
      "cell_type": "markdown",
      "source": [
        "Scrapping the last table from: https://en.wikipedia.org/wiki/Red_states_and_blue_states"
      ],
      "metadata": {
        "id": "ZVBZm9j5dgp9"
      }
    },
    {
      "cell_type": "markdown",
      "source": [
        "We will be using **Beautiful Soup** and **Requests** Library for this Task."
      ],
      "metadata": {
        "id": "mB8cn-Djdptl"
      }
    },
    {
      "cell_type": "code",
      "source": [
        "import requests #taking the html from an URl\n",
        "import bs4 #beautiful soup 4 = bs4 - if we are taking the url by request library then we are using bs4 to find the targetted element\n",
        "import pandas as pd #store or showing the data in pandas"
      ],
      "metadata": {
        "id": "aO7iHGkRdnwc"
      },
      "execution_count": null,
      "outputs": []
    },
    {
      "cell_type": "markdown",
      "source": [
        "Imported the two Libraries"
      ],
      "metadata": {
        "id": "jzXPJsyMgI7c"
      }
    },
    {
      "cell_type": "code",
      "source": [
        "url = \"https://en.wikipedia.org/wiki/Red_states_and_blue_states\"\n",
        "web_page = bs4.BeautifulSoup(requests.get(url,{}).text, \"lxml\")\n",
        "tables = web_page.find_all(name=\"table\", attrs= {\"class\": \"wikitable\"})\n",
        "tables[-1]"
      ],
      "metadata": {
        "id": "xmTvL5H2en7l"
      },
      "execution_count": null,
      "outputs": []
    },
    {
      "cell_type": "markdown",
      "source": [
        "requests.get(url,{}).text \n",
        "taking the URL from the variable 'url' into the text format\n",
        "Then taking text url then making it in lxml or tree format\n",
        "\n",
        "# **What is lxml explained?**\n",
        " lxml is a Python library which allows for easy handling of XML and HTML files, and can also be used for web scraping."
      ],
      "metadata": {
        "id": "c2Ly0XVefbd0"
      }
    },
    {
      "cell_type": "code",
      "source": [],
      "metadata": {
        "id": "-V7JQL9qgDUc"
      },
      "execution_count": null,
      "outputs": []
    }
  ]
}